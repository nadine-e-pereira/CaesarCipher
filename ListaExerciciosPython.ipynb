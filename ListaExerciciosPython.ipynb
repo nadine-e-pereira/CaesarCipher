{
  "nbformat": 4,
  "nbformat_minor": 0,
  "metadata": {
    "colab": {
      "provenance": [],
      "collapsed_sections": [],
      "authorship_tag": "ABX9TyP7tTMxnWYY2unFOhh1Vobj",
      "include_colab_link": true
    },
    "kernelspec": {
      "name": "python3",
      "display_name": "Python 3"
    },
    "language_info": {
      "name": "python"
    }
  },
  "cells": [
    {
      "cell_type": "markdown",
      "metadata": {
        "id": "view-in-github",
        "colab_type": "text"
      },
      "source": [
        "<a href=\"https://colab.research.google.com/github/nadine-e-pereira/CaesarCipher/blob/main/ListaExerciciosPython.ipynb\" target=\"_parent\"><img src=\"https://colab.research.google.com/assets/colab-badge.svg\" alt=\"Open In Colab\"/></a>"
      ]
    },
    {
      "cell_type": "code",
      "execution_count": null,
      "metadata": {
        "id": "McBqlStuR6iK"
      },
      "outputs": [],
      "source": [
        "#Exercício 1\n",
        "\n",
        "for contador in range(1,5):\n",
        "  print('')\n",
        "  print(f'Colega: {contador}')\n",
        "  \n",
        "  nome = input(f\"Entre com o nome: {nome} \")\n",
        "\n",
        "  idade = int(input(f\"Entre com a idade: {idade}\"))\n",
        "  peso = int (input(f\"Entre com o peso: {peso}\"))\n",
        "  altura = float(input(f\"Entre com a altura: {altura}\"))\n",
        "\n",
        "  print(f'Nome: {nome}')\n",
        "  print(f'Idade: {idade}')\n",
        "  print(f'Peso: {peso}')\n",
        "  print(f'Altura: {altura}')\n",
        "\n",
        "if idade > 17 and peso > 59 and altura > 169 :\n",
        "    print(\"Está apto(a).\")\n",
        "else:\n",
        "    print(\"Não está apto(a) para o exército.\")"
      ]
    },
    {
      "cell_type": "code",
      "source": [
        "#Exercíco 2\n",
        "\n",
        "palavra = \"Anotaram a data da maratona\"\n",
        "palavra_invertida = palavra [::-1]\n",
        "print(f'Palavra invertida: {palavra_invertida}')\n"
      ],
      "metadata": {
        "id": "B5nPQ5WRWMyY"
      },
      "execution_count": null,
      "outputs": []
    },
    {
      "cell_type": "code",
      "source": [
        "#Exercício 3\n",
        "\n",
        "qt_dias = input (\"Informe a quantidade de dias para descobrir quantos segundos têm: \")\n",
        "qt_dias = int(qt_dias)\n",
        "\n",
        "segundos = qt_dias*24*60*60\n",
        "segundos = int(segundos)\n",
        "\n",
        "print(f'{qt_dias} dia(as) tem {segundos:,.2f} segundos.')"
      ],
      "metadata": {
        "id": "nJ2_6mbSs367"
      },
      "execution_count": null,
      "outputs": []
    },
    {
      "cell_type": "code",
      "source": [
        "#Exercício 4\n",
        "\n",
        "distancia = input(\"Informe a distância: \")\n",
        "distancia = float(distancia)\n",
        "velocidade = input(\"Informe a velocidade média: \")\n",
        "velocidade = float(velocidade)\n",
        "\n",
        "tempo = distancia/velocidade\n",
        "tempo = float(tempo)\n",
        "\n",
        "print(f'A previsão de tempo de chegada da viagem é de {tempo:,.2f} min.')"
      ],
      "metadata": {
        "id": "rXomo8ovv0ou"
      },
      "execution_count": null,
      "outputs": []
    },
    {
      "cell_type": "code",
      "source": [
        "#Exercício 5\n",
        "\n",
        "velocidade = input(\"Informe a velocidade: \")\n",
        "velocidade = int(velocidade)\n",
        "\n",
        "if velocidade > 79:\n",
        "  multa = (velocidade-80)*5\n",
        "  print(f'Limite de velocidade ultrapassado. Multa de R$ {multa:,.2f}.')\n",
        "else: \n",
        "  print(f'Dentro do limite de velocidade esperado.')"
      ],
      "metadata": {
        "id": "MrPr_ynGydd-"
      },
      "execution_count": null,
      "outputs": []
    },
    {
      "cell_type": "code",
      "source": [
        "#Exercício 6\n",
        "\n",
        "valor_casa = input(\"Informe o valor da casa que deseja comprar: \")\n",
        "valor_casa = float(valor_casa)\n",
        "\n",
        "salario = input(\"Informe seu salário: \")\n",
        "salario = float(salario)\n",
        "\n",
        "qt_meses = input(\"Quantidade de meses de pagamento: \")\n",
        "qt_meses = float(qt_meses)\n",
        "\n",
        "prestacao = valor_casa/qt_meses\n",
        "\n",
        "if prestacao > (salario*100)/30 :\n",
        "  print(f'Não está apto para empréstimo.')\n",
        "else:\n",
        "  print(f'Para comprar uma casa de R$ {valor_casa:,.2f} em {qt_meses} meses, pagará prestações de R$ {prestacao:,.2f}.')"
      ],
      "metadata": {
        "id": "v0f9pFqJ0szX"
      },
      "execution_count": null,
      "outputs": []
    },
    {
      "cell_type": "code",
      "source": [
        "#Exercício 7\n",
        "\n",
        "numero = input(\"Tabuada de: \")\n",
        "numero = int(numero)\n",
        "\n",
        "inicial = input(\"De: \")\n",
        "inicial = int(inicial)\n",
        "\n",
        "multiplicador = input(\"Até: \")\n",
        "multiplicador = int(multiplicador)\n",
        "\n",
        "print(f'')\n",
        "\n",
        "for contador in range(inicial, multiplicador+1):\n",
        "  print(f'{numero} X {contador} = {numero*contador}')"
      ],
      "metadata": {
        "id": "b3Rc_uSv6T6X"
      },
      "execution_count": null,
      "outputs": []
    },
    {
      "cell_type": "code",
      "source": [
        "# Exercício 8\n",
        "\n",
        "dividendo = int(input(\"Dividendo: \"))\n",
        "divisor = int(input(\"Divisor: \"))\n",
        "quociente = 0\n",
        "x = dividendo\n",
        "while x >= divisor:\n",
        "    x = x - divisor\n",
        "    quociente = quociente + 1\n",
        "resto = x\n",
        "print(f\"O resto de {dividendo} / {divisor} é {resto}.\")\n"
      ],
      "metadata": {
        "id": "Cy70y0UX6eoq"
      },
      "execution_count": null,
      "outputs": []
    },
    {
      "cell_type": "code",
      "source": [
        "#Exercício 9\n",
        "\n",
        "lado1 = input(\"Informe o lado 1 do trinângulo: \")\n",
        "lado1 = int(lado1)\n",
        "lado2 = input(\"Informe o lado 2 do trinângulo: \")\n",
        "lado2 = int(lado2)\n",
        "lado3 = input(\"Informe o lado 3 2do trinângulo: \")\n",
        "lado3 = int(lado3)\n",
        "\n",
        "if lado1==lado2==lado3:\n",
        "    tipo = 'Equilátero'\n",
        "elif lado1!=lado2 and lado1!=lado3 and lado2!=lado3:\n",
        "    tipo = 'Escaleno'\n",
        "else: tipo = 'Isósceles'\n",
        "\n",
        "print(f'É um triângulo {tipo}.')\n"
      ],
      "metadata": {
        "id": "eiBCrQsa7s85"
      },
      "execution_count": null,
      "outputs": []
    },
    {
      "cell_type": "code",
      "source": [
        "#Exercício 10\n",
        "\n",
        "n = int(input(\"Entre com o número: \"))\n",
        "\n",
        "def inverte_numero():\n",
        "    return str(n)[::-1]\n",
        "\n",
        "inverte_numero()"
      ],
      "metadata": {
        "id": "bTC08ToO_MRQ"
      },
      "execution_count": null,
      "outputs": []
    },
    {
      "cell_type": "code",
      "source": [
        "#Exercício 11\n",
        "\n",
        "palavra = input(\"Informe uma palavra: \")\n",
        "\n",
        "def conta_vogal():\n",
        "  cont = 0\n",
        "  for i in palavra:\n",
        "    if (i == 'a' or i == 'e' or i == 'i' or i == 'o' or i == 'u'):\n",
        "      cont+=1\n",
        "  return cont\n",
        "\n",
        "conta_vogal()"
      ],
      "metadata": {
        "id": "uVhN3TMz_v3h"
      },
      "execution_count": null,
      "outputs": []
    },
    {
      "cell_type": "code",
      "source": [
        "#Exercício 12\n",
        "\n",
        "from collections import Counter \n",
        "\n",
        "def mais_frequente(Lista): \n",
        "    contador = Counter(Lista) \n",
        "    return contador.most_common(1)[0][0] \n",
        "\n",
        "def quantidade(lista, x): \n",
        "    d = Counter(lista)\n",
        "    return d[x]\n",
        "\n",
        "lista = input(\"Informe uma sequencia de numeros/letras/caracteres:\")\n",
        "print(mais_frequente(lista) + \" aparece \" + str(quantidade(lista, mais_frequente(lista))) + \" vezes.\")"
      ],
      "metadata": {
        "id": "XUip4IYFDvJQ"
      },
      "execution_count": null,
      "outputs": []
    },
    {
      "cell_type": "code",
      "source": [
        "#Execício 13\n",
        "\n",
        "palavra = input(\"Entre com a palavra/frase e descubra se é palíndroma: \")\n",
        "palavra_invertida = palavra [::-1]\n",
        "print(f'Palavra invertida: {palavra_invertida}')\n",
        "if(palavra.replace(\" \", \"\").lower() == palavra_invertida.replace(\" \", \"\").lower()):\n",
        "  print('É palíndroma.')\n",
        "else:\n",
        "  print('Não é palíndroma.')"
      ],
      "metadata": {
        "id": "HwkpQsM7DWxy"
      },
      "execution_count": null,
      "outputs": []
    }
  ]
}